{
 "cells": [
  {
   "cell_type": "markdown",
   "id": "17e8d2cf-ba96-4c0a-8a4d-6144dbcbdb63",
   "metadata": {
    "tags": []
   },
   "source": [
    "# One time setup for use in labs.iot-lab.info\n",
    "\n",
    "Prerequisites:\n",
    "\n",
    "- Connect to this Jupyter lab instance https://labs.iot-lab.info\n",
    "- Clone the micropython tutorias source: `git clone https://github.com/schrein/micropython-tutorials.git` at the root of the jupyter lab instance\n",
    "- Open this notebook at `micropython-tutorials/lorawan/`\n",
    "\n",
    "In this setup the control machine is the jupyter instance running at  https://labs.iot-lab.info"
   ]
  },
  {
   "cell_type": "markdown",
   "id": "fb004679-08ca-4623-adce-dbb059cfca20",
   "metadata": {
    "tags": []
   },
   "source": [
    "## Install Pycom boards sample codes\n",
    "\n",
    "Clone git repository for Pycom boards sample codes "
   ]
  },
  {
   "cell_type": "code",
   "execution_count": null,
   "id": "b12f0852-011c-451c-aae2-90e74b9038ce",
   "metadata": {},
   "outputs": [],
   "source": [
    "!git clone https://github.com/schrein/lopy-example"
   ]
  },
  {
   "cell_type": "markdown",
   "id": "c85035c8-e3ac-4f50-b07a-4ac6b3d8d03e",
   "metadata": {},
   "source": [
    "## Install Rshell Python module\n",
    "\n",
    "This module is needed to flash MicroPython IoT Boards like Pycom LoPy or FiPy."
   ]
  },
  {
   "cell_type": "code",
   "execution_count": null,
   "id": "99f56a8b-c740-4266-aeaf-8a27691cbbcd",
   "metadata": {
    "tags": []
   },
   "outputs": [],
   "source": [
    "!pip install -U --user rshell"
   ]
  }
 ],
 "metadata": {
  "kernelspec": {
   "display_name": "Python 3 (ipykernel)",
   "language": "python",
   "name": "python3"
  },
  "language_info": {
   "codemirror_mode": {
    "name": "ipython",
    "version": 3
   },
   "file_extension": ".py",
   "mimetype": "text/x-python",
   "name": "python",
   "nbconvert_exporter": "python",
   "pygments_lexer": "ipython3",
   "version": "3.9.7"
  }
 },
 "nbformat": 4,
 "nbformat_minor": 5
}
