{
 "cells": [
  {
   "cell_type": "markdown",
   "id": "c5de09ff-ef3f-460f-bccf-482afda98083",
   "metadata": {
    "tags": []
   },
   "source": [
    "# LoRaWAN Class-A End-Device\n",
    "\n",
    "In this tutorial, we want to book one Pycom board and programm it as LoRaWAN Class-A Device."
   ]
  },
  {
   "cell_type": "markdown",
   "id": "5efc8450-b938-4f49-b4ae-bd874c427b8c",
   "metadata": {
    "jp-MarkdownHeadingCollapsed": true,
    "tags": []
   },
   "source": [
    "## 1. Provision End-Device on LoRaWAN Server\n",
    "\n",
    "Log in with your LoRaWAN account and password on the [LoRaWAN server](https://inetlab-lorawan.icube.unistra.fr) (ChirpStack) \n",
    "\n",
    "1. Create a **Device-Profile** for a Class-A  End-Device with OTAA mode (see [Documention](https://inetlab.icube.unistra.fr/index.php/Documentation/Doc-LRP_IoT-organisation#Comment_cr.C3.A9er_un_profil_d.27acc.C3.A8s_r.C3.A9seau_.3F_.28Device-profiles.29))\n",
    "\n",
    "* Device-profile name : class-A-otaa-1.0.2 \n",
    "* Network-server : chirpstack-network-server \n",
    "* LoRaWAN MAC version : 1.0.2\n",
    "* LoRaWAN Regional Parameters revision : A \n",
    "* ADR algorithm : Default\n",
    "* Max EIRP : 14\n",
    "* Uplink interval (seconds) : 86400 \n",
    "* Device supports OTAA : True \n",
    "* CLASS B : False\n",
    "* CLASS C : False\n",
    "* CODEC : Cayenne LPP\n",
    "\n",
    "2. Create an **Application** called **class_a_app** (see [Documentation](https://inetlab.icube.unistra.fr/index.php/Documentation/Doc-LRP_IoT-organisation#Comment_cr.C3.A9er_une_application_.3F_.28Applications.29s)) \n",
    "\n",
    "3. Create an **End-Device** called **my_class_a_obj** inside **class_a_app** application (See [Documentation](https://inetlab.icube.unistra.fr/index.php/Documentation/Doc-LRP_IoT- organisation#Comment_ajouter_des_End-Devices_.C3.A0_une_application_.3F))\n",
    "\n",
    "* **Note:** Generate a **random Device EUI** "
   ]
  },
  {
   "cell_type": "markdown",
   "id": "dcc03ec6-80b0-47d4-b95d-9e7caf32ec57",
   "metadata": {},
   "source": [
    "## 2. Configure the End-Device firmware\n",
    "\n",
    "\n",
    "1. Copy template file for eb_demo example :"
   ]
  },
  {
   "cell_type": "code",
   "execution_count": null,
   "id": "e3c75007-e006-44ba-a62b-1b3bec2ea9bd",
   "metadata": {},
   "outputs": [],
   "source": [
    "!cp /home/jovyan/work/training/micropython-tutorials/lorawan/lopy-example/eb_demo/config.py.example /home/jovyan/work/training/micropython-tutorials/lorawan/lopy-example/eb_demo/config.py"
   ]
  },
  {
   "cell_type": "markdown",
   "id": "236f6042-8c7b-448e-b498-f6ce86996ff1",
   "metadata": {},
   "source": [
    "2. Edit /home/jovyan/work/training/micropython-tutorials/lorawan/lopy-example/eb_demo/config.py \n",
    "\n",
    "Change **APP_KEY** and  **DEV_EUI** values according your End-Device **my_class_a_obj** declaration provisionned on the LoRaWAN Server.\n",
    "\n",
    "```\n",
    "\"\"\" Application configuration parameters \"\"\"\n",
    "\n",
    "# Time to wait in sec between msg\n",
    "SLEEP_TIMER = 30\n",
    "\n",
    "# LoRaWAN Settings\n",
    "APP_EUI = 'AB CD AB CD 12 34 12 34'\n",
    "APP_KEY = 'ff ff ff ff ff ff ff ff ff ff ff ff ff ff ff ff'\n",
    "DEV_EUI = 'ff ff ff ff ff ff ff ff'\n",
    "ADR = False\n",
    "DATARATE = 5\n",
    "\n",
    "# Leds colors\n",
    "COLOR_YELLOW = 0xffff00\n",
    "COLOR_RED = 0xff0000\n",
    "COLOR_GREEN = 0x00ff00\n",
    "COLOR_BLUE = 0x0000ff\n",
    "COLOR_BROWN = 0x996633\n",
    "COLOR_BLACK = 0x000000\n",
    "```"
   ]
  },
  {
   "cell_type": "markdown",
   "id": "2d8c88f8-ec3a-41b4-8500-f6afbec9d657",
   "metadata": {},
   "source": [
    "## 3. Node Reservation"
   ]
  },
  {
   "cell_type": "markdown",
   "id": "ba0c943e-8172-4690-bfa0-c8d6fa18b52b",
   "metadata": {
    "tags": []
   },
   "source": [
    "1. Book one Pycom node on the IoT-LAB Strasbourg site. \n",
    "\n",
    "**Note:** You can choose :\n",
    "\n",
    "* ARCHI=pycom:fipy:eb31  (20 nodes)\n",
    "\n",
    "or \n",
    "\n",
    "* ARCHI=pycom:lopy4:eb31 (10 nodes)"
   ]
  },
  {
   "cell_type": "code",
   "execution_count": null,
   "id": "92437f73-bb13-4a08-92ac-db151161ac4d",
   "metadata": {},
   "outputs": [],
   "source": [
    "%env ARCHI=pycom:fipy:eb31\n",
    "%env SITE=strasbourg"
   ]
  },
  {
   "cell_type": "markdown",
   "id": "94da2bb0-0ba4-47d6-b9e6-f5d2d03979eb",
   "metadata": {},
   "source": [
    "2. Submit an experiment using the following command, \n",
    "\n",
    "**Note:** run only one experiment at a time, check experiment status on [IoT-LAB dashboard](https://www.iot-lab.info/testbed/dashboard)"
   ]
  },
  {
   "cell_type": "code",
   "execution_count": null,
   "id": "b3374cab-2c65-44fc-aacf-af089ab3b4c6",
   "metadata": {},
   "outputs": [],
   "source": [
    "!iotlab-experiment submit -n \"class-a\" -d 60 -l 1,archi=$ARCHI+site=$SITE,"
   ]
  },
  {
   "cell_type": "markdown",
   "id": "8c8bd740-8535-4804-a1b1-ca6b3fc15600",
   "metadata": {},
   "source": [
    "3. Wait for the experiment to be in the Running state:"
   ]
  },
  {
   "cell_type": "code",
   "execution_count": null,
   "id": "892ca853-417e-4dc3-aa8d-aa9def1c5208",
   "metadata": {},
   "outputs": [],
   "source": [
    "!iotlab-experiment wait --timeout 30 --cancel-on-timeout"
   ]
  },
  {
   "cell_type": "markdown",
   "id": "9a4c4edc-6b28-4a6e-97fc-67c412e6b1af",
   "metadata": {},
   "source": [
    "4. Get the experiment nodes list:"
   ]
  },
  {
   "cell_type": "code",
   "execution_count": null,
   "id": "aa677da4-fafe-462a-aa2a-1f9983dd1b66",
   "metadata": {},
   "outputs": [],
   "source": [
    "!iotlab-experiment --jmespath=\"items[*].network_address | sort(@)\" get --nodes"
   ]
  },
  {
   "cell_type": "markdown",
   "id": "b3c1f967-fc73-4a6a-8a2e-645a11f305d2",
   "metadata": {},
   "source": [
    "**Be careful**, you must note the id of the booked node because it will be useful when you read its serial port. Each node is listed using its network address, which is of the form `pycom-<id>.<site>.iot-lab.info`. You have to remember the `pycom-<id>` string for the next command."
   ]
  },
  {
   "cell_type": "markdown",
   "id": "81eada49-fbf8-47c6-b876-ea50d928380a",
   "metadata": {},
   "source": [
    "## 4. Flash the board"
   ]
  },
  {
   "cell_type": "markdown",
   "id": "eb657820-46d7-43c0-9577-004c8ede1299",
   "metadata": {},
   "source": [
    "1. Open a first JupyterLab Terminal (File > New > Terminal) and copy/paste the following command. \n",
    "\n",
    "**NOTE:** Replace `pycom-<id>` and `<site>` with the right value. Keep this terminal open.\n",
    "\n",
    "```\n",
    "ssh -L 20000:pycom-<id>:20000 $IOTLAB_LOGIN@<site>.iot-lab.info\n",
    "```"
   ]
  },
  {
   "cell_type": "markdown",
   "id": "6c6b612a-42df-4161-9508-dac19a305436",
   "metadata": {},
   "source": [
    "2. Open a second JupyterLab Terminal (File > New > Terminal) and copy/paste the following command. This command forwards remote serial port on JupyterLab in order to be able to flash firmware on the node.\n",
    "\n",
    "```\n",
    "socat -d -d pty,link=/tmp/ttyS0,echo=0,crnl TCP:127.0.0.1:20000s\n",
    "```"
   ]
  },
  {
   "cell_type": "markdown",
   "id": "dd9a240d-3998-46b4-a0b0-635897347387",
   "metadata": {},
   "source": [
    "3. Synchronize files with Rshell. It is quiet long (could be serveral minutes). **Please wait until the cell is completedly done.**"
   ]
  },
  {
   "cell_type": "code",
   "execution_count": null,
   "id": "9473dcfc-e076-48f9-8e6d-f01a2e90ab8e",
   "metadata": {},
   "outputs": [],
   "source": [
    "!/home/jovyan/.local/bin/rshell -n -p /tmp/ttyS0 rsync /home/jovyan/work/training/micropython/lorawan/lopy-example/eb_demo/ /flash"
   ]
  },
  {
   "cell_type": "markdown",
   "id": "228459f1-9c6f-473d-9233-122f9f213a83",
   "metadata": {},
   "source": [
    "## 4. Monitor Join Request\n",
    "\n",
    "1. Close socat on second terminal (CTRL + C) in order to release serial port. Remember serial port access is exclusive, we can not open two connexion at the same time.\n",
    "\n",
    "2. Go to [IoT-LAB dashboard](https://www.iot-lab.info/testbed/dashboard)\n",
    "\n",
    "3. Go inside your experiment runnning \n",
    "\n",
    "4. Reset the your Pycom board (reset button)\n",
    "\n",
    "5. Open Serial Port from dashboard (Terminal button), observe MicroPython messages logs.\n",
    "\n",
    "6. Go to [LoRaWAN server](https://inetlab-lorawan.icube.unistra.fr), navigate to Applications > **class_a_app** >  **my_class_a_obj** > Device Data and LoRaWAN Frames and find the exact messages corresponding the OTAA phase (Join Request/ Join-Accept). Find the DevEUI and DevAddr value for your Device.\n",
    "\n",
    "## 5. Monitor Uplink Messages \n",
    "\n",
    "1. Observe the Uplink Messages, what is the time interval between two Uplinks ? Could you explain with the MicroPython code ?\n",
    "\n",
    "2. How many frequency are used for Uplink Messages ? (wait for enough history messages)\n",
    "\n",
    "3. How many LoRaWAN Gateways see the same Uplink Messages ?\n",
    "\n",
    "4. Can you observe other messages (Downlink or Status). What kind of messages is it ?\n",
    "\n",
    "\n",
    "## 6. Send Downlink Messages\n",
    "\n",
    "Envoyer un Downlink sans acquittement via l’interface ChirpStack avec le chaine en base64 suivante : dGl0aXRvdG8= . Observer les échanges de messages dans l’onglet LoRaWAN Frames. Vérifier la réception du message Downlink sur l’objet.\n",
    "\n",
    "1. Send an **unconfirmed downlink** with [LoRaWAN server](https://inetlab-lorawan.icube.unistra.fr) , navigate to Applications > **class_a_app** >  **my_class_a_obj** >  Details > Enqueue downlink payload . Use paramaters: \n",
    "\n",
    "* port: **1**\n",
    "* Confirmed downlink: **False**\n",
    "* base64 encoded: **dGl0aXRvdG8=**\n",
    "\n",
    "2. Verify reception on End-Device serial port via IoT-LAB Dashboard (terminal). What is message send to End-Device ?\n",
    "\n",
    "3. Try to send a **confirmed downlink** :\n",
    "\n",
    "* port: **1**\n",
    "* Confirmed downlink: **True**\n",
    "* base64 encoded: **dGl0aXRvdG8=**\n",
    "\n",
    "4. Verify reception on End-Device serial port via IoT-LAB Dashboard (terminal). What is message send to End-Device ? Do have a confirmation of the End-Device Acknowledgment ?\n"
   ]
  },
  {
   "cell_type": "markdown",
   "id": "030c9769-ef12-4012-8518-2d79b41db943",
   "metadata": {
    "tags": []
   },
   "source": [
    "## 7. Free up the resources\n",
    "\n",
    "1. Since you finished the training, stop your experiment to free up the experiment nodes:"
   ]
  },
  {
   "cell_type": "code",
   "execution_count": null,
   "id": "73e1a57c-1f58-4457-9851-b00c5aaa0533",
   "metadata": {},
   "outputs": [],
   "source": [
    "!iotlab-experiment stop"
   ]
  },
  {
   "cell_type": "markdown",
   "id": "58eb27fd-3306-4d62-81f1-9c488443aa0c",
   "metadata": {
    "tags": []
   },
   "source": [
    "## 8. References\n",
    "\n",
    "* https://www.iot-lab.info/docs/getting-started/introduction/ \n",
    "* https://inetlab.icube.unistra.fr/index.php/Documentation/Doc-LRP_IoT-organisation \n",
    "* https://www.chirpstack.io/application-server/ \n",
    "* https://www.iot-lab.info/docs/boards/pycom/\n",
    "* https://docs.pycom.io \n",
    "* https://micropython.fr/05.outils/terminal_serie/rshell/ \n",
    "* https://github.com/dhylands/rshell"
   ]
  }
 ],
 "metadata": {
  "kernelspec": {
   "display_name": "Python 3 (ipykernel)",
   "language": "python",
   "name": "python3"
  },
  "language_info": {
   "codemirror_mode": {
    "name": "ipython",
    "version": 3
   },
   "file_extension": ".py",
   "mimetype": "text/x-python",
   "name": "python",
   "nbconvert_exporter": "python",
   "pygments_lexer": "ipython3",
   "version": "3.9.7"
  }
 },
 "nbformat": 4,
 "nbformat_minor": 5
}
